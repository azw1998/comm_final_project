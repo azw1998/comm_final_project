{
 "cells": [
  {
   "cell_type": "code",
   "execution_count": 1,
   "id": "532f9c14",
   "metadata": {},
   "outputs": [],
   "source": [
    "def htable(nbuckets):\n",
    "    \"\"\"Return a list of nbuckets lists\"\"\"\n",
    "    return [[] for _ in range(nbuckets)]"
   ]
  },
  {
   "cell_type": "code",
   "execution_count": 2,
   "id": "85dbccc4",
   "metadata": {},
   "outputs": [],
   "source": [
    "def hashcode(o):\n",
    "    \"\"\"\n",
    "    Return a hashcode for strings and integers; all others return None\n",
    "    For integers, just return the integer value.\n",
    "    For strings, perform operation h = h*31 + ord(c) for all characters in the string\n",
    "    \"\"\"\n",
    "    if type(o) == int:\n",
    "        return o\n",
    "    if type(o) == str:\n",
    "        h = 0\n",
    "        for c in o:\n",
    "            h = h*31 + ord(c)\n",
    "        return h\n",
    "    return"
   ]
  },
  {
   "cell_type": "code",
   "execution_count": 3,
   "id": "89215914",
   "metadata": {},
   "outputs": [],
   "source": [
    "def htable_put(table, key, value):\n",
    "    \"\"\"\n",
    "    Perform the equivalent of table[key] = value\n",
    "    Find the appropriate bucket inicated by key and then append (key,value)\n",
    "    to that bucket if the (key,valued) pair doesn't exist yet in that bucket.\n",
    "    If the bucket for key already has a (key,value) pair with that key,\n",
    "    then replace the tuple with the new (key,value).\n",
    "    Make sure that you are only adding (key,value) associations to the buckets.\n",
    "    The type(value) can be anything. Could be a set, list, number, string, anything!\n",
    "    \"\"\"\n",
    "\n",
    "    bucket = table[hashcode(key) % len(table)]\n",
    "\n",
    "    if bucket:\n",
    "        for association in bucket:\n",
    "            if association[0] == key:\n",
    "                bucket.remove(association)\n",
    "                break\n",
    "    bucket.append((key, value))"
   ]
  },
  {
   "cell_type": "code",
   "execution_count": 4,
   "id": "7cd4e828",
   "metadata": {},
   "outputs": [],
   "source": [
    "def htable_get(table, key):\n",
    "    \"\"\"\n",
    "    Return the equivalent of table[key].\n",
    "    Find the appropriate bucket indicated by the key and look for the\n",
    "    association with the key. Return the value (not the key and not\n",
    "    the association!). Return None if key not found.\n",
    "    \"\"\"\n",
    "    bucket = table[hashcode(key) % len(table)]\n",
    "\n",
    "    for association in bucket:\n",
    "        if association[0] == key:\n",
    "            return association[1]\n",
    "    return"
   ]
  },
  {
   "cell_type": "code",
   "execution_count": 19,
   "id": "fdc58403",
   "metadata": {},
   "outputs": [],
   "source": [
    "def htable_buckets_str(table):\n",
    "    \"\"\"\n",
    "    Return a string representing the various buckets of this table.\n",
    "    The output looks like:\n",
    "        0000->\n",
    "        0001->\n",
    "        0002->\n",
    "        0003->parrt:99\n",
    "        0004->\n",
    "    where parrt:99 indicates an association of (parrt,99) in bucket 3.\n",
    "    \"\"\"\n",
    "    bucket_str_list = []\n",
    "    for i in range(len(table)):\n",
    "        bucket_key_values = []\n",
    "        for association in table[i]:\n",
    "            if association and association[0] and association[1]:\n",
    "                bucket_key_values.append(str(association[0]) + ':' + str(association[1]))\n",
    "        bucket_str_list.append('000' + str(i) + '->' + ', '.join(bucket_key_values))\n",
    "    return '\\n'.join(bucket_str_list) + '\\n'"
   ]
  },
  {
   "cell_type": "code",
   "execution_count": null,
   "id": "6083e286",
   "metadata": {},
   "outputs": [],
   "source": [
    "def htable_str(table):\n",
    "    \"\"\"\n",
    "    Return what str(table) would return for a regular Python dict\n",
    "    such as {parrt:99}. The order should be in bucket order and then\n",
    "    insertion order within each bucket. The insertion order is\n",
    "    guaranteed when you append to the buckets in htable_put().\n",
    "    \"\"\"\n",
    "    key_values = []\n",
    "\n",
    "    for bucket in table:\n",
    "        if bucket:\n",
    "            for association in bucket:\n",
    "                key = association[0]\n",
    "                value = association[1]\n",
    "                key_values.append(str(key) + ':' + str(value))\n",
    "    return '{' + ', '.join(key_values) + '}'"
   ]
  },
  {
   "cell_type": "code",
   "execution_count": 24,
   "id": "b692e3b2",
   "metadata": {},
   "outputs": [],
   "source": [
    "table = htable(5)\n",
    "htable_put(table, \"parrt\", [2, 99, 3942])\n",
    "htable_put(table, \"tombu\", [6, 3, 1024, 99, 102342])"
   ]
  },
  {
   "cell_type": "code",
   "execution_count": null,
   "id": "579cc385",
   "metadata": {},
   "outputs": [],
   "source": [
    "table = htable(5)\n",
    "htable_put(table, \"a\", \"x\")\n",
    "htable_put(table, \"b\", \"y\")\n",
    "htable_put(table, \"a\", \"z\")\n",
    "htable_put(table, \"a\", \"i\")\n",
    "htable_put(table, \"g\", \"j\")\n",
    "htable_put(table, \"g\", \"k\")"
   ]
  }
 ],
 "metadata": {
  "kernelspec": {
   "display_name": "Python 3",
   "language": "python",
   "name": "python3"
  },
  "language_info": {
   "codemirror_mode": {
    "name": "ipython",
    "version": 3
   },
   "file_extension": ".py",
   "mimetype": "text/x-python",
   "name": "python",
   "nbconvert_exporter": "python",
   "pygments_lexer": "ipython3",
   "version": "3.8.8"
  }
 },
 "nbformat": 4,
 "nbformat_minor": 5
}
